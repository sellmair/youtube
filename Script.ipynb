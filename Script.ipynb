{
 "cells": [
  {
   "metadata": {},
   "cell_type": "markdown",
   "source": [
    "# Intro\n",
    "If you're looking for building a better understanding of `kotlinx.coroutines`, try re-implementing it.\n",
    "It's quite fascinating that `coroutines`, in the Kotlin ecosystem is almost synonymous with kotlinx.coroutines. However: kotlinx.coroutines is \"just a library\" maintained by the \"Kotlin Libraries\" team. You have all tools necessary for re-implementing kotlinx.coroutines in the standard library and within the Kotlin compiler. Let's try.\n",
    "\n"
   ]
  },
  {
   "metadata": {},
   "cell_type": "markdown",
   "source": [
    "# What we want to implement.\n",
    "Here we a very plain and simple Kotlin 'main' function which we can run. There are no surprises, it will greet us with a \"Hello\". \n",
    "However, there is also this 'async' function which could print \"Async\". Now calling this function with kotlinx.coroutines would be as simple as launching a coroutine in some scope and invoking `async`. \n",
    "In this video I'll show how to implement the basics of kotlinx.coroutines such as invoking this `async` method, Dispatchers and switching context by providing our own `withContext` method. \n",
    "\n",
    "# Creating the first coroutine\n",
    "We can create the first coroutine taking any reference to a `suspend` fun and create a coroutine from it using the `createCoroutine` function. \n",
    "Note this `createCoroutine` is coming straight from the Kotlin stdlib. \n",
    "This function requires us to provide a `Continuation`. This object will care about two things: \n",
    "1. It will carry the `coroutine context` of the coroutine: We'll pass an `EmptyCoroutineContext` for now\n",
    "2. It provides the `resumeWith` function which gets invoked once the coroutine finished. In this case we're just getting the value or throw on any error."
   ]
  },
  {
   "metadata": {
    "ExecuteTime": {
     "end_time": "2024-08-21T19:30:08.633607Z",
     "start_time": "2024-08-21T19:30:08.457830Z"
    }
   },
   "cell_type": "code",
   "outputs": [
    {
     "name": "stdout",
     "output_type": "stream",
     "text": [
      "Hello\n"
     ]
    }
   ],
   "execution_count": 1,
   "source": [
    "fun main() {\n",
    "    println(\"Hello\")\n",
    "}\n",
    "\n",
    "suspend fun async() {\n",
    "    println(\"Async\")\n",
    "}\n",
    "\n",
    "main()"
   ]
  },
  {
   "metadata": {
    "ExecuteTime": {
     "end_time": "2024-08-21T19:02:00.855020Z",
     "start_time": "2024-08-21T19:02:00.533444Z"
    }
   },
   "cell_type": "code",
   "source": [
    "import kotlin.coroutines.Continuation\n",
    "import kotlin.coroutines.EmptyCoroutineContext\n",
    "import kotlin.coroutines.createCoroutine\n",
    "import kotlin.coroutines.resume\n",
    "\n",
    "fun main() {\n",
    "    val coroutine = ::async.createCoroutine(Continuation(EmptyCoroutineContext) { result -> result.getOrThrow() })\n",
    "    coroutine.resume(Unit)\n",
    "}\n",
    "\n",
    "suspend fun async() {\n",
    "    println(\"Async\")\n",
    "}\n",
    "\n",
    "main()"
   ],
   "outputs": [
    {
     "name": "stdout",
     "output_type": "stream",
     "text": [
      "Async\n"
     ]
    }
   ],
   "execution_count": 1
  },
  {
   "metadata": {},
   "cell_type": "markdown",
   "source": [
    "# Re-Implementing a dispatcher\n",
    "Yay! We called our first `suspend` function and we can see it being executed. Let's define a `Dispatcher` interface as abstraction over actual threads that can execute code.\n",
    "The interface shapp be very simple: We just want to 'dispatch' any arbitrary piece of work to some kind of thread or queue, or whatever!\n",
    "Implementing `CoroutineContext.Element` will allow for providing a given `Dispatcher` implementation in the `currentCoroutineContext`. \n",
    "\n",
    "It's a quite common convention to use the `companion object` as key for for the `Context Element`\n"
   ]
  },
  {
   "metadata": {
    "ExecuteTime": {
     "end_time": "2024-08-21T19:04:56.410099Z",
     "start_time": "2024-08-21T19:04:56.344432Z"
    }
   },
   "cell_type": "code",
   "source": [
    "import kotlin.coroutines.CoroutineContext\n",
    "import kotlin.coroutines.CoroutineContext.Element\n",
    "import kotlin.coroutines.CoroutineContext.Key\n",
    "\n",
    "interface Dispatcher : CoroutineContext.Element {\n",
    "    fun dispatch(block: () -> Unit)\n",
    "    override val key: CoroutineContext.Key<*> get() = Dispatcher.Key\n",
    "    companion object Key : CoroutineContext.Key<Dispatcher>\n",
    "}"
   ],
   "outputs": [],
   "execution_count": 2
  },
  {
   "metadata": {},
   "cell_type": "markdown",
   "source": [
    "# Re-Implementing a 'MainDispatcher' for the 'main thread'\n",
    "Now that we have defined the `Dispatcher` interface, its time to re-implement the \"Main Dispatcher\" which will allow scheduling tasks on the 'main' thread. \n",
    "Typically such a main thread is implemented using looping over a blocking queue"
   ]
  },
  {
   "metadata": {
    "ExecuteTime": {
     "end_time": "2024-08-21T19:05:04.981602Z",
     "start_time": "2024-08-21T19:05:04.804577Z"
    }
   },
   "cell_type": "code",
   "source": [
    "import java.util.concurrent.LinkedBlockingQueue\n",
    "import kotlin.coroutines.CoroutineContext\n",
    "import kotlin.coroutines.CoroutineContext.Element\n",
    "import kotlin.coroutines.CoroutineContext.Key\n",
    "\n",
    "interface Dispatcher : CoroutineContext.Element {\n",
    "    fun dispatch(block: () -> Unit)\n",
    "    override val key: CoroutineContext.Key<*> get() = Dispatcher.Key\n",
    "    companion object Key : CoroutineContext.Key<Dispatcher>\n",
    "}\n",
    "\n",
    "object MainDispatcher : Dispatcher {\n",
    "    private val queue = LinkedBlockingQueue<() -> Unit>()\n",
    "\n",
    "    override fun dispatch(block: () -> Unit) {\n",
    "        queue.offer(block)\n",
    "    }\n",
    "\n",
    "    fun loop(): Nothing {\n",
    "        while (true) {\n",
    "            queue.take().invoke()\n",
    "        }\n",
    "    }\n",
    "}"
   ],
   "outputs": [],
   "execution_count": 3
  },
  {
   "metadata": {},
   "cell_type": "markdown",
   "source": [
    "# Using the MainDispatcher to start the coroutine\n",
    "Let's provide this `MainDispatcher` as the coroutine context for our initial coroutine; Note: To keep it simple, we're not going to implement the `Dispatcher` as proper `CoroutineInterceptor`\n",
    "In order to let the program stop, we'll simply use a timeout for receiving new work on the `MainDispatcher`.  \n"
   ]
  },
  {
   "metadata": {
    "ExecuteTime": {
     "end_time": "2024-08-21T19:11:08.577035Z",
     "start_time": "2024-08-21T19:11:07.383Z"
    }
   },
   "cell_type": "code",
   "source": [
    "import java.util.concurrent.LinkedBlockingQueue\n",
    "import java.util.concurrent.TimeUnit\n",
    "import kotlin.coroutines.CoroutineContext.Key\n",
    "import kotlin.coroutines.Continuation\n",
    "import kotlin.coroutines.EmptyCoroutineContext\n",
    "import kotlin.coroutines.createCoroutine\n",
    "import kotlin.coroutines.resume\n",
    "import kotlin.system.exitProcess\n",
    "import kotlin.coroutines.CoroutineContext\n",
    "import kotlin.coroutines.CoroutineContext.Element\n",
    "\n",
    "interface Dispatcher : CoroutineContext.Element {\n",
    "    fun dispatch(block: () -> Unit)\n",
    "    override val key: CoroutineContext.Key<*> get() = Dispatcher.Key\n",
    "    companion object Key : CoroutineContext.Key<Dispatcher>\n",
    "}\n",
    "\n",
    "object MainDispatcher : Dispatcher {\n",
    "    private val queue = LinkedBlockingQueue<() -> Unit>()\n",
    "\n",
    "    override fun dispatch(block: () -> Unit) {\n",
    "        queue.offer(block)\n",
    "    }\n",
    "\n",
    "    fun loop() {\n",
    "        while(true) {\n",
    "            // Stop program after no more work was received for the main queue after one second!\n",
    "            queue.poll(1, TimeUnit.SECONDS)?.invoke() ?: return\n",
    "        }\n",
    "    }\n",
    "}\n",
    "\n",
    "fun main() {\n",
    "    Thread.currentThread().name = \"main\"\n",
    "    val coroutine = ::async.createCoroutine(Continuation(MainDispatcher) { result -> result.getOrThrow() })\n",
    "    MainDispatcher.dispatch { coroutine.resume(Unit) }\n",
    "    MainDispatcher.loop()\n",
    "}\n",
    "\n",
    "suspend fun async() {\n",
    "    println(\"Async: ${Thread.currentThread().name}\")\n",
    "}\n",
    "\n",
    "main()\n"
   ],
   "outputs": [
    {
     "name": "stdout",
     "output_type": "stream",
     "text": [
      "Async: main\n"
     ]
    }
   ],
   "execution_count": 3
  },
  {
   "metadata": {},
   "cell_type": "markdown",
   "source": [
    "# Implementing a BackgroundDispatcher\n",
    "Right now, we have not really gained a lot: Yes, we have created a main loop for our main thread, but where is the fun w/o dispatching work on some kind of background threads. \n",
    "We can implement a `BackgroundDispatcher` implementation which is backed by a thread pool. For the sake of this video, lets keep it simple and just use a thread pool with a fixed amount of background threats. \n",
    "Of course, in the real world one is requried to carefully think about the requirements of such pools and make sure to properly close them if not needed anymore, but this is YouTube.\n"
   ]
  },
  {
   "metadata": {},
   "cell_type": "code",
   "outputs": [],
   "execution_count": null,
   "source": [
    "import java.util.concurrent.ExecutorService\n",
    "import java.util.concurrent.Executors\n",
    "import java.util.concurrent.LinkedBlockingQueue\n",
    "import java.util.concurrent.TimeUnit\n",
    "import kotlin.coroutines.CoroutineContext.Key\n",
    "import kotlin.coroutines.Continuation\n",
    "import kotlin.coroutines.EmptyCoroutineContext\n",
    "import kotlin.coroutines.createCoroutine\n",
    "import kotlin.coroutines.resume\n",
    "import kotlin.system.exitProcess\n",
    "import kotlin.coroutines.CoroutineContext\n",
    "import kotlin.coroutines.CoroutineContext.Element\n",
    "\n",
    "interface Dispatcher : CoroutineContext.Element {\n",
    "    fun dispatch(block: () -> Unit)\n",
    "    override val key: CoroutineContext.Key<*> get() = Dispatcher.Key\n",
    "\n",
    "    companion object Key : CoroutineContext.Key<Dispatcher>\n",
    "}\n",
    "\n",
    "object BackgroundDispatcher : Dispatcher {\n",
    "    private val executors = Executors.newFixedThreadPool(4)\n",
    "    \n",
    "    override fun dispatch(block: () -> Unit) {\n",
    "        executors.execute { block() }\n",
    "    }\n",
    "}\n"
   ]
  },
  {
   "metadata": {},
   "cell_type": "markdown",
   "source": [
    "# Re-Implementing `withContext`\n",
    "Yay, this was simple: We have now a `MainDispatcher` and `BackgroundDispatcher` implementation. Let's implement a `withContext` method to switch the 'coroutine context' which is effectively allowing us to switch threads. \n",
    "Note, again this implementation would look different if our Dispatchers would implement `ContinuationInterceptor`. Let me know if you're interested in learning more about this case!\n",
    "\n",
    "This `withContext` method itself should be a suspend fun that accepts additions to the  `Coroutine Context` and another `suspend fun` which shall be executed in this new context. \n",
    "Using the `suspendCoroutine` method allows us to *suspend* the currently running coroutine and provides us the `outerContinuation` as handle to resume it later. \n",
    "\n",
    "Once the current coroutine is suspended we can create a new context and the new coroutine using, again, the `createCoroutine` function.\n",
    "Creating the new coroutine requires creating a new continuation which, of course, gets passed the new context. However, the `resumeWith` handle is important as \n",
    "it requires us to connect the new coroutine with the currently suspended one by resuming it in its desired `Dispatcher`\n",
    "\n",
    "Once the new coroutine was created we can execute it by resuming it on the Dispatcher found in the new context.\n"
   ]
  },
  {
   "metadata": {},
   "cell_type": "code",
   "outputs": [],
   "execution_count": null,
   "source": [
    "import kotlin.coroutines.suspendCoroutine\n",
    "\n",
    "suspend fun <T> withContext(context: CoroutineContext, action: suspend () -> T): T {\n",
    "    return suspendCoroutine { outerContinuation ->\n",
    "        val newContext = outerContinuation.context + context\n",
    "\n",
    "        val newCoroutine = action.createCoroutine(Continuation(newContext) { result ->\n",
    "            val dispatcher = outerContinuation.context[Dispatcher] ?: error(\"No dispatcher found\")\n",
    "            dispatcher.dispatch {\n",
    "                outerContinuation.resumeWith(result)\n",
    "            }\n",
    "        })\n",
    "\n",
    "        val dispatcher = newContext[Dispatcher] ?: error(\"No dispatcher found\")\n",
    "        dispatcher.dispatch {\n",
    "            newCoroutine.resume(Unit)\n",
    "        }\n",
    "    }\n",
    "}"
   ]
  },
  {
   "metadata": {},
   "cell_type": "markdown",
   "source": "# Bringing it all together\n"
  },
  {
   "metadata": {
    "ExecuteTime": {
     "end_time": "2024-08-21T19:28:49.427316Z",
     "start_time": "2024-08-21T19:28:48.195516Z"
    }
   },
   "cell_type": "code",
   "source": [
    "import java.util.concurrent.Executors\n",
    "import java.util.concurrent.LinkedBlockingQueue\n",
    "import java.util.concurrent.TimeUnit\n",
    "import kotlin.coroutines.*\n",
    "import kotlin.coroutines.CoroutineContext.Key\n",
    "import kotlin.system.exitProcess\n",
    "import kotlin.coroutines.CoroutineContext.Element\n",
    "\n",
    "interface Dispatcher : CoroutineContext.Element {\n",
    "    fun dispatch(block: () -> Unit)\n",
    "    override val key: CoroutineContext.Key<*> get() = Dispatcher.Key\n",
    "\n",
    "    companion object Key : CoroutineContext.Key<Dispatcher>\n",
    "}\n",
    "\n",
    "object MainDispatcher : Dispatcher {\n",
    "    private val queue = LinkedBlockingQueue<() -> Unit>()\n",
    "\n",
    "    override fun dispatch(block: () -> Unit) {\n",
    "        queue.offer(block)\n",
    "    }\n",
    "\n",
    "    fun loop() {\n",
    "        while (true) {\n",
    "            // Stop program after no more work was received for the main queue after one second!\n",
    "            queue.poll(1, TimeUnit.SECONDS)?.invoke() ?: return\n",
    "        }\n",
    "    }\n",
    "}\n",
    "\n",
    "object BackgroundDispatcher : Dispatcher {\n",
    "    private val executors = Executors.newFixedThreadPool(4)\n",
    "\n",
    "    override fun dispatch(block: () -> Unit) {\n",
    "        executors.execute { block() }\n",
    "    }\n",
    "}\n",
    "\n",
    "suspend fun <T> withContext(context: CoroutineContext, action: suspend () -> T): T {\n",
    "    return suspendCoroutine { outerContinuation ->\n",
    "        val newContext = outerContinuation.context + context\n",
    "\n",
    "        val newCoroutine = action.createCoroutine(Continuation(newContext) { result ->\n",
    "            val dispatcher = outerContinuation.context[Dispatcher] ?: error(\"No dispatcher found\")\n",
    "            dispatcher.dispatch {\n",
    "                outerContinuation.resumeWith(result)\n",
    "            }\n",
    "        })\n",
    "\n",
    "        val dispatcher = newContext[Dispatcher] ?: error(\"No dispatcher found\")\n",
    "        dispatcher.dispatch {\n",
    "            newCoroutine.resume(Unit)\n",
    "        }\n",
    "    }\n",
    "}\n",
    "\n",
    "fun main() {\n",
    "    Thread.currentThread().name = \"main\"\n",
    "    val coroutine = ::async.createCoroutine(Continuation(MainDispatcher) { result -> result.getOrThrow() })\n",
    "    MainDispatcher.dispatch { coroutine.resume(Unit) }\n",
    "    MainDispatcher.loop()\n",
    "}\n",
    "\n",
    "suspend fun async() {\n",
    "    println(\"Async: ${Thread.currentThread().name}\")\n",
    "    withContext(BackgroundDispatcher) {\n",
    "        println(\"Changed to ${Thread.currentThread().name}\")\n",
    "    }\n",
    "\n",
    "    println(\"Returned in ${Thread.currentThread().name}\")\n",
    "}\n",
    "\n",
    "main()"
   ],
   "outputs": [
    {
     "name": "stdout",
     "output_type": "stream",
     "text": [
      "Async: main\n",
      "Changed to pool-3-thread-1\n",
      "Returned in main\n"
     ]
    }
   ],
   "execution_count": 7
  }
 ],
 "metadata": {
  "kernelspec": {
   "display_name": "Kotlin",
   "language": "kotlin",
   "name": "kotlin"
  },
  "language_info": {
   "name": "kotlin",
   "version": "1.9.23",
   "mimetype": "text/x-kotlin",
   "file_extension": ".kt",
   "pygments_lexer": "kotlin",
   "codemirror_mode": "text/x-kotlin",
   "nbconvert_exporter": ""
  }
 },
 "nbformat": 4,
 "nbformat_minor": 0
}
