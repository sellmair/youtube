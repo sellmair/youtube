{
 "cells": [
  {
   "metadata": {},
   "cell_type": "markdown",
   "source": [
    "# View Models Feel Wrong and Stupid\n",
    "## Intro\n",
    "I loved the idea of ViewModels, back in 2018. I tried so hard to make them work, but that's it. I am breaking up with it. \n",
    "It's not about them, it's about me, it just never feels right.\n",
    "\n",
    "\n",
    "## Negative Points about ViewModel\n",
    "How to structure your Application's ViewModels?\n",
    "### Option 1: One ViewModel for your entire screen.\n",
    "Now in this case, how to pass events up and state down?\n",
    "#### Option 1.1 writing a lot of 'pass up, pass down' boilerplate code\n",
    "This can get ugly quickly, can make refactoring a hell, ...\n",
    "\n",
    "#### Option 1.2 pass the view model into child composables\n",
    "Super pragmatic, but super ugly: Now re-usability of children is completely broken. So this might be an option if you maintain a simple project for yourself. \n",
    "However, this shows already: If the pragmatic and simple way is the wrong way, there is something wrong!\n",
    "\n",
    "It really requires a dependency injection framework\n",
    "- DI can be great\n",
    "- Hard to learn\n",
    "\n",
    "\n",
    "I hate 'Entire Screen States'\n",
    "\n",
    "## Testing\n",
    "Here is how you could test simply"
   ]
  },
  {
   "cell_type": "code",
   "execution_count": null,
   "metadata": {
    "collapsed": true
   },
   "outputs": [],
   "source": [
    ""
   ]
  },
  {
   "metadata": {},
   "cell_type": "markdown",
   "source": ""
  }
 ],
 "metadata": {
  "kernelspec": {
   "display_name": "Kotlin",
   "language": "kotlin",
   "name": "kotlin"
  },
  "language_info": {
   "name": "kotlin",
   "version": "1.9.23",
   "mimetype": "text/x-kotlin",
   "file_extension": ".kt",
   "pygments_lexer": "kotlin",
   "codemirror_mode": "text/x-kotlin",
   "nbconvert_exporter": ""
  }
 },
 "nbformat": 4,
 "nbformat_minor": 0
}
